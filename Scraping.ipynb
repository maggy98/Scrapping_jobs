{
 "cells": [
  {
   "cell_type": "code",
   "execution_count": 2,
   "metadata": {},
   "outputs": [],
   "source": [
    "import requests\n",
    "from bs4 import BeautifulSoup"
   ]
  },
  {
   "cell_type": "code",
   "execution_count": 8,
   "metadata": {},
   "outputs": [],
   "source": [
    "import pandas as pd\n",
    "import numpy as np"
   ]
  },
  {
   "cell_type": "code",
   "execution_count": 3,
   "metadata": {},
   "outputs": [],
   "source": [
    "URL = \"https://www.olx.pl/d/praca/\"\n",
    "response = requests.get(URL)\n",
    "soup = BeautifulSoup(response.content, \"html.parser\")\n",
    "root = \"https://www.olx.pl\""
   ]
  },
  {
   "cell_type": "code",
   "execution_count": 4,
   "metadata": {},
   "outputs": [],
   "source": [
    "results = soup.find(id=\"root\")"
   ]
  },
  {
   "cell_type": "code",
   "execution_count": 5,
   "metadata": {},
   "outputs": [],
   "source": [
    "job_elements = results.find_all(\"div\", class_=\"listing-grid-container css-d4ctjd\")"
   ]
  },
  {
   "attachments": {},
   "cell_type": "markdown",
   "metadata": {},
   "source": [
    "Wszystkie tytuły"
   ]
  },
  {
   "cell_type": "code",
   "execution_count": 6,
   "metadata": {},
   "outputs": [
    {
     "name": "stdout",
     "output_type": "stream",
     "text": [
      "Logista, spedytor\n",
      "Odpisywanie na wiadomości - Praca zdalna\n",
      "Kierowca zawodowy kategoria C+E  - 5500 na rękę, głównie krajówka\n",
      "firma z Raciborza zatrudni operatora sprzętów budowlanych\n",
      "Praca za granicą - wykończeniówka\n",
      "Pracownik do spraw rozliczeń opakowań\n",
      "STOLARZ / MONTAŻYSTA z doświadczeniem\n",
      "Praca w mobilnej przyczepie gastronomicznej z Kebabem\n",
      "Koordynator Zmiany ds. Utrzymania Czystości\n",
      "Zatrudnię kierowce kat C+E\n",
      "Asystentka / Asystent do zespołu księgowego\n",
      "Pracownik Administracyjno-biurowy\n",
      "Przedstawiciel Handlowy\n",
      "Sprzedawca - sklep hydrauliczny\n",
      "H.T.I. SZKŁO produkcja i montaż\n",
      "Praca Manager/Kierownik prestiżowej Restauracji Włoskiej Bielsk\n",
      "Pracownik Ochrony\n",
      "WYSOKIE ZAROBKI /Promotor/Promotorka/ od zaraz\n",
      "Zatrudnię kierowcę kategoria C\n",
      "Pracownik ochrony - obiekt magazynowy - Płońsk​\n",
      "Praca W Domu w 100% / Odpisywanie na Wiadomości / 2-3 godziny dziennie\n",
      "Zastępca/zastępczyni kierownika sklepu - Wrocław Galeria Wroclavia\n",
      "Specjalista/-tka ds. pozyskiwania klienta (j. niderlandzki)\n",
      "Zatrudnimy osobę na zmywak\n",
      "Nowy klub/ Wielkie otwarcie/ Promotor / od zaraz\n",
      "Praca rejestratorka medyczna\n",
      "Wychowawca w placówce opiekuńczo - wychowawczej\n",
      "Szlifierz narządziowy\n"
     ]
    }
   ],
   "source": [
    "all_title_elements = results.find_all(\"div\", class_=\"css-b7dwkg\")\n",
    "for all_title_element in all_title_elements:\n",
    "    title_element = all_title_element.find(\"h6\")\n",
    "    all_title_elements_text=title_element.text.strip()\n",
    "    print(all_title_elements_text)"
   ]
  },
  {
   "attachments": {},
   "cell_type": "markdown",
   "metadata": {},
   "source": [
    "Ilość ofert wg poszczególnych miast z pierwszej strony"
   ]
  },
  {
   "cell_type": "code",
   "execution_count": 7,
   "metadata": {},
   "outputs": [
    {
     "name": "stdout",
     "output_type": "stream",
     "text": [
      "Warszawa: 7\n",
      "Karaków: 3\n",
      "Łódź: 1\n",
      "Poznań: 1\n",
      "Katowice 1\n",
      "Wrocław 3\n"
     ]
    }
   ],
   "source": [
    "for job_element in job_elements:\n",
    "    job_places_warszawa = job_element.find_all(\"p\", string=lambda text: \"warszawa\" in text.lower())\n",
    "    job_places_krakow = job_element.find_all(\"p\", string=lambda text: \"kraków\" in text.lower())\n",
    "    job_places_lodz = job_element.find_all(\"p\", string=lambda text: \"łódź\" in text.lower())\n",
    "    job_places_poznan = job_element.find_all(\"p\", string=lambda text: \"poznań\" in text.lower())\n",
    "    job_places_katowice = job_element.find_all(\"p\", string=lambda text: \"katowice\" in text.lower())\n",
    "    job_places_wroclaw = job_element.find_all(\"p\", string=lambda text: \"wrocław\" in text.lower())\n",
    "\n",
    "    len_warszawa_jobs = len(job_places_warszawa)\n",
    "    print(\"Warszawa:\",len_warszawa_jobs)\n",
    "\n",
    "    len_krakow_jobs = len(job_places_krakow)\n",
    "    print(\"Karaków:\",len_krakow_jobs)\n",
    "\n",
    "    len_lodz_jobs = len(job_places_lodz)\n",
    "    print(\"Łódź:\",len_lodz_jobs)\n",
    "\n",
    "    len_poznan_jobs = len(job_places_poznan)\n",
    "    print(\"Poznań:\",len_poznan_jobs)\n",
    "\n",
    "    len_katowice_jobs = len(job_places_katowice)\n",
    "    print(\"Katowice\",len_katowice_jobs)\n",
    "\n",
    "    len_wroclaw_jobs = len(job_places_wroclaw)\n",
    "    print(\"Wrocław\",len_wroclaw_jobs)"
   ]
  },
  {
   "cell_type": "code",
   "execution_count": 9,
   "metadata": {},
   "outputs": [],
   "source": [
    "cities=[\"Warszawa\",\"Kraków\",\"Łódź\",\"Poznań\",\"Katowice\",\"Wrocław\"]\n",
    "numbers_of_jobs=[len_warszawa_jobs, len_krakow_jobs,len_lodz_jobs, len_poznan_jobs, len_katowice_jobs,len_wroclaw_jobs]"
   ]
  },
  {
   "cell_type": "code",
   "execution_count": 10,
   "metadata": {},
   "outputs": [],
   "source": [
    "dict_cities = {'Cities':cities,'Offers':numbers_of_jobs}\n",
    "df_cities = pd.DataFrame.from_dict(dict_cities)\n",
    "#print(df_cities)\n",
    "df_cities.to_csv('cities.csv', index=False)"
   ]
  },
  {
   "attachments": {},
   "cell_type": "markdown",
   "metadata": {},
   "source": [
    "Salary - Warszawa"
   ]
  },
  {
   "cell_type": "code",
   "execution_count": 11,
   "metadata": {},
   "outputs": [],
   "source": [
    "url = \"https://www.olx.pl/d/praca/warszawa/\"\n",
    "response_warszawa = requests.get(url)\n",
    "soup = BeautifulSoup(response_warszawa.content, \"html.parser\")"
   ]
  },
  {
   "cell_type": "code",
   "execution_count": 12,
   "metadata": {},
   "outputs": [],
   "source": [
    "results_warszawa = soup.find(id=\"root\")"
   ]
  },
  {
   "cell_type": "code",
   "execution_count": 13,
   "metadata": {},
   "outputs": [],
   "source": [
    "job_elements_warszawa = results_warszawa.find_all(\"div\", {\"class\":\"css-gx18fk\"})\n",
    "list_war = \"\"\n",
    "for job_element_warszawa in job_elements_warszawa:\n",
    "    job_salaries_warszawa = job_element_warszawa.find(\"p\", class_=\"css-16ldsa0 er34gjf0\")\n",
    "    if job_salaries_warszawa != None:\n",
    "        element = job_salaries_warszawa.text\n",
    "        list_war += element + \"\\n\"\n",
    "    \n"
   ]
  },
  {
   "cell_type": "code",
   "execution_count": 14,
   "metadata": {},
   "outputs": [
    {
     "name": "stdout",
     "output_type": "stream",
     "text": [
      "30 zł / godz. brutto\n",
      "5 000 zł - 6 000 zł zł / mies. brutto\n",
      "4 500 zł - 5 500 zł zł / mies. brutto\n",
      "19 zł - 20 zł zł / godz. brutto\n",
      "5 500 zł - 6 500 zł zł / mies. brutto\n",
      "17 zł - 18 zł zł / godz. brutto\n",
      "3 000 zł - 3 300 zł zł / mies. brutto\n",
      "74,67 zł - 84,03 zł zł / godz. brutto\n",
      "67,43 zł - 75,11 zł zł / godz. brutto\n",
      "4 000 zł - 4 500 zł zł / mies. brutto\n",
      "23 zł - 27 zł zł / godz. brutto\n",
      "71 zł - 105 zł zł / godz. brutto\n",
      "4 000 zł - 4 100 zł zł / mies. brutto\n",
      "50 zł / godz. brutto\n",
      "25 zł - 33 zł zł / godz. brutto\n",
      "4 000 zł - 11 000 zł zł / mies. brutto\n",
      "3 000 zł - 9 000 zł zł / mies. brutto\n",
      "60 zł / godz. brutto\n",
      "1 000 zł - 10 000 zł zł / mies. brutto\n",
      "3 000 zł - 7 000 zł zł / mies. brutto\n",
      "3 200 zł - 6 500 zł zł / mies. brutto\n",
      "22 zł - 23 zł zł / godz. brutto\n",
      "6 000 zł - 9 000 zł zł / mies. brutto\n",
      "7 000 zł - 20 000 zł zł / mies. brutto\n",
      "5 800 zł - 7 600 zł zł / mies. brutto\n",
      "9 000 zł - 16 000 zł zł / mies. brutto\n",
      "5 000 zł - 25 000 zł zł / mies. brutto\n",
      "5 000 zł - 8 000 zł zł / mies. brutto\n",
      "22,80 zł - 25 zł zł / godz. brutto\n",
      "4 800 zł - 8 000 zł zł / mies. brutto\n",
      "10 000 zł - 100 000 zł zł / mies. brutto\n",
      "20 zł - 25 zł zł / godz. brutto\n",
      "\n"
     ]
    }
   ],
   "source": [
    "print(list_war)"
   ]
  },
  {
   "attachments": {},
   "cell_type": "markdown",
   "metadata": {},
   "source": [
    "Warszawa salary df"
   ]
  },
  {
   "cell_type": "code",
   "execution_count": 15,
   "metadata": {},
   "outputs": [
    {
     "name": "stdout",
     "output_type": "stream",
     "text": [
      "['30 zł / godz. brutto', '5 000 zł - 6 000 zł zł / mies. brutto', '4 500 zł - 5 500 zł zł / mies. brutto', '19 zł - 20 zł zł / godz. brutto', '5 500 zł - 6 500 zł zł / mies. brutto', '17 zł - 18 zł zł / godz. brutto', '3 000 zł - 3 300 zł zł / mies. brutto', '74,67 zł - 84,03 zł zł / godz. brutto', '67,43 zł - 75,11 zł zł / godz. brutto', '4 000 zł - 4 500 zł zł / mies. brutto', '23 zł - 27 zł zł / godz. brutto', '71 zł - 105 zł zł / godz. brutto', '4 000 zł - 4 100 zł zł / mies. brutto', '50 zł / godz. brutto', '25 zł - 33 zł zł / godz. brutto', '4 000 zł - 11 000 zł zł / mies. brutto', '3 000 zł - 9 000 zł zł / mies. brutto', '60 zł / godz. brutto', '1 000 zł - 10 000 zł zł / mies. brutto', '3 000 zł - 7 000 zł zł / mies. brutto', '3 200 zł - 6 500 zł zł / mies. brutto', '22 zł - 23 zł zł / godz. brutto', '6 000 zł - 9 000 zł zł / mies. brutto', '7 000 zł - 20 000 zł zł / mies. brutto', '5 800 zł - 7 600 zł zł / mies. brutto', '9 000 zł - 16 000 zł zł / mies. brutto', '5 000 zł - 25 000 zł zł / mies. brutto', '5 000 zł - 8 000 zł zł / mies. brutto', '22,80 zł - 25 zł zł / godz. brutto', '4 800 zł - 8 000 zł zł / mies. brutto', '10 000 zł - 100 000 zł zł / mies. brutto', '20 zł - 25 zł zł / godz. brutto']\n"
     ]
    }
   ],
   "source": [
    "salary_warszawa = list_war.splitlines()\n",
    "print(salary_warszawa)"
   ]
  },
  {
   "cell_type": "code",
   "execution_count": 16,
   "metadata": {},
   "outputs": [],
   "source": [
    "dict_salary_warszawa = {'Salary':salary_warszawa}\n",
    "df_salary_warszawa = pd.DataFrame(dict_salary_warszawa)"
   ]
  },
  {
   "cell_type": "code",
   "execution_count": 17,
   "metadata": {},
   "outputs": [],
   "source": [
    "df_salary_warszawa[['salary_value','time']] = df_salary_warszawa.Salary.str.split(\"/\",expand=True)\n"
   ]
  },
  {
   "cell_type": "code",
   "execution_count": 18,
   "metadata": {},
   "outputs": [],
   "source": [
    "df_salary_warszawa[['salary_min','salary_max']] = df_salary_warszawa.salary_value.str.split(\"-\",expand=True)"
   ]
  },
  {
   "cell_type": "code",
   "execution_count": 19,
   "metadata": {},
   "outputs": [],
   "source": [
    "df_salary_warszawa['salary_min'] = df_salary_warszawa['salary_min'].str.replace(' zł', '')\n"
   ]
  },
  {
   "cell_type": "code",
   "execution_count": 20,
   "metadata": {},
   "outputs": [],
   "source": [
    "df_salary_warszawa['salary_max'] = df_salary_warszawa['salary_max'].str.replace(' zł zł ', '')\n"
   ]
  },
  {
   "cell_type": "code",
   "execution_count": 21,
   "metadata": {},
   "outputs": [],
   "source": [
    "df_salary_warszawa['salary_max'] = df_salary_warszawa['salary_max'].str.replace(' ', '')"
   ]
  },
  {
   "cell_type": "code",
   "execution_count": 22,
   "metadata": {},
   "outputs": [],
   "source": [
    "df_salary_warszawa['salary_min'] = df_salary_warszawa['salary_min'].str.replace(' ', '')"
   ]
  },
  {
   "cell_type": "code",
   "execution_count": 23,
   "metadata": {},
   "outputs": [],
   "source": [
    "df_salary_warszawa = df_salary_warszawa.fillna(value=np.nan)"
   ]
  },
  {
   "cell_type": "code",
   "execution_count": 24,
   "metadata": {},
   "outputs": [],
   "source": [
    "df_salary_warszawa['salary_max'] = df_salary_warszawa['salary_max'].str.replace(',', '.')"
   ]
  },
  {
   "cell_type": "code",
   "execution_count": 25,
   "metadata": {},
   "outputs": [],
   "source": [
    "df_salary_warszawa['salary_min'] = df_salary_warszawa['salary_min'].str.replace(',', '.')"
   ]
  },
  {
   "cell_type": "code",
   "execution_count": 26,
   "metadata": {},
   "outputs": [],
   "source": [
    "del df_salary_warszawa['Salary']"
   ]
  },
  {
   "cell_type": "code",
   "execution_count": 27,
   "metadata": {},
   "outputs": [],
   "source": [
    "del df_salary_warszawa['salary_value']"
   ]
  },
  {
   "cell_type": "code",
   "execution_count": 28,
   "metadata": {},
   "outputs": [
    {
     "data": {
      "text/html": [
       "<div>\n",
       "<style scoped>\n",
       "    .dataframe tbody tr th:only-of-type {\n",
       "        vertical-align: middle;\n",
       "    }\n",
       "\n",
       "    .dataframe tbody tr th {\n",
       "        vertical-align: top;\n",
       "    }\n",
       "\n",
       "    .dataframe thead th {\n",
       "        text-align: right;\n",
       "    }\n",
       "</style>\n",
       "<table border=\"1\" class=\"dataframe\">\n",
       "  <thead>\n",
       "    <tr style=\"text-align: right;\">\n",
       "      <th></th>\n",
       "      <th>time</th>\n",
       "      <th>salary_min</th>\n",
       "      <th>salary_max</th>\n",
       "    </tr>\n",
       "  </thead>\n",
       "  <tbody>\n",
       "    <tr>\n",
       "      <th>0</th>\n",
       "      <td>godz. brutto</td>\n",
       "      <td>30</td>\n",
       "      <td>NaN</td>\n",
       "    </tr>\n",
       "    <tr>\n",
       "      <th>3</th>\n",
       "      <td>godz. brutto</td>\n",
       "      <td>19</td>\n",
       "      <td>20</td>\n",
       "    </tr>\n",
       "    <tr>\n",
       "      <th>5</th>\n",
       "      <td>godz. brutto</td>\n",
       "      <td>17</td>\n",
       "      <td>18</td>\n",
       "    </tr>\n",
       "    <tr>\n",
       "      <th>7</th>\n",
       "      <td>godz. brutto</td>\n",
       "      <td>74.67</td>\n",
       "      <td>84.03</td>\n",
       "    </tr>\n",
       "    <tr>\n",
       "      <th>8</th>\n",
       "      <td>godz. brutto</td>\n",
       "      <td>67.43</td>\n",
       "      <td>75.11</td>\n",
       "    </tr>\n",
       "    <tr>\n",
       "      <th>10</th>\n",
       "      <td>godz. brutto</td>\n",
       "      <td>23</td>\n",
       "      <td>27</td>\n",
       "    </tr>\n",
       "    <tr>\n",
       "      <th>11</th>\n",
       "      <td>godz. brutto</td>\n",
       "      <td>71</td>\n",
       "      <td>105</td>\n",
       "    </tr>\n",
       "    <tr>\n",
       "      <th>13</th>\n",
       "      <td>godz. brutto</td>\n",
       "      <td>50</td>\n",
       "      <td>NaN</td>\n",
       "    </tr>\n",
       "    <tr>\n",
       "      <th>14</th>\n",
       "      <td>godz. brutto</td>\n",
       "      <td>25</td>\n",
       "      <td>33</td>\n",
       "    </tr>\n",
       "    <tr>\n",
       "      <th>17</th>\n",
       "      <td>godz. brutto</td>\n",
       "      <td>60</td>\n",
       "      <td>NaN</td>\n",
       "    </tr>\n",
       "    <tr>\n",
       "      <th>21</th>\n",
       "      <td>godz. brutto</td>\n",
       "      <td>22</td>\n",
       "      <td>23</td>\n",
       "    </tr>\n",
       "    <tr>\n",
       "      <th>28</th>\n",
       "      <td>godz. brutto</td>\n",
       "      <td>22.80</td>\n",
       "      <td>25</td>\n",
       "    </tr>\n",
       "    <tr>\n",
       "      <th>31</th>\n",
       "      <td>godz. brutto</td>\n",
       "      <td>20</td>\n",
       "      <td>25</td>\n",
       "    </tr>\n",
       "  </tbody>\n",
       "</table>\n",
       "</div>"
      ],
      "text/plain": [
       "             time salary_min salary_max\n",
       "0    godz. brutto         30        NaN\n",
       "3    godz. brutto         19         20\n",
       "5    godz. brutto         17         18\n",
       "7    godz. brutto      74.67      84.03\n",
       "8    godz. brutto      67.43      75.11\n",
       "10   godz. brutto         23         27\n",
       "11   godz. brutto         71        105\n",
       "13   godz. brutto         50        NaN\n",
       "14   godz. brutto         25         33\n",
       "17   godz. brutto         60        NaN\n",
       "21   godz. brutto         22         23\n",
       "28   godz. brutto      22.80         25\n",
       "31   godz. brutto         20         25"
      ]
     },
     "execution_count": 28,
     "metadata": {},
     "output_type": "execute_result"
    }
   ],
   "source": [
    "options_warszawa = [' godz. brutto']\n",
    "df_warszawa_per_hour = df_salary_warszawa[df_salary_warszawa['time'].isin(options_warszawa)]\n",
    "\n",
    "df_warszawa_per_hour.to_csv('df_warszawa_per_hour.csv', index=False)\n",
    "df_warszawa_per_hour"
   ]
  },
  {
   "attachments": {},
   "cell_type": "markdown",
   "metadata": {},
   "source": [
    "salary per hour - Warszawa"
   ]
  },
  {
   "cell_type": "code",
   "execution_count": 29,
   "metadata": {},
   "outputs": [],
   "source": [
    "del df_warszawa_per_hour['time']"
   ]
  },
  {
   "cell_type": "code",
   "execution_count": 30,
   "metadata": {},
   "outputs": [],
   "source": [
    "df_warszawa_per_hour.to_csv('df_warszawa_per_hour.csv', index=False)"
   ]
  },
  {
   "cell_type": "code",
   "execution_count": 31,
   "metadata": {},
   "outputs": [],
   "source": [
    "df_warszawa_per_hour = pd.read_csv('df_warszawa_per_hour.csv')"
   ]
  },
  {
   "cell_type": "code",
   "execution_count": 32,
   "metadata": {},
   "outputs": [
    {
     "name": "stdout",
     "output_type": "stream",
     "text": [
      "salary_min    38.607692\n",
      "dtype: float64\n"
     ]
    }
   ],
   "source": [
    "df_warszawa_per_hour_mean_min = df_warszawa_per_hour[['salary_min']].mean()\n",
    "print(df_warszawa_per_hour_mean_min)"
   ]
  },
  {
   "cell_type": "code",
   "execution_count": 33,
   "metadata": {},
   "outputs": [
    {
     "data": {
      "text/html": [
       "<div>\n",
       "<style scoped>\n",
       "    .dataframe tbody tr th:only-of-type {\n",
       "        vertical-align: middle;\n",
       "    }\n",
       "\n",
       "    .dataframe tbody tr th {\n",
       "        vertical-align: top;\n",
       "    }\n",
       "\n",
       "    .dataframe thead th {\n",
       "        text-align: right;\n",
       "    }\n",
       "</style>\n",
       "<table border=\"1\" class=\"dataframe\">\n",
       "  <thead>\n",
       "    <tr style=\"text-align: right;\">\n",
       "      <th></th>\n",
       "      <th>salary_min</th>\n",
       "      <th>salary_max</th>\n",
       "    </tr>\n",
       "  </thead>\n",
       "  <tbody>\n",
       "    <tr>\n",
       "      <th>0</th>\n",
       "      <td>30.0</td>\n",
       "      <td>NaN</td>\n",
       "    </tr>\n",
       "    <tr>\n",
       "      <th>7</th>\n",
       "      <td>50.0</td>\n",
       "      <td>NaN</td>\n",
       "    </tr>\n",
       "    <tr>\n",
       "      <th>9</th>\n",
       "      <td>60.0</td>\n",
       "      <td>NaN</td>\n",
       "    </tr>\n",
       "  </tbody>\n",
       "</table>\n",
       "</div>"
      ],
      "text/plain": [
       "   salary_min  salary_max\n",
       "0        30.0         NaN\n",
       "7        50.0         NaN\n",
       "9        60.0         NaN"
      ]
     },
     "execution_count": 33,
     "metadata": {},
     "output_type": "execute_result"
    }
   ],
   "source": [
    "df_warszawa_per_hour.loc[(df_warszawa_per_hour['salary_max'].isnull())]"
   ]
  },
  {
   "cell_type": "code",
   "execution_count": 34,
   "metadata": {},
   "outputs": [
    {
     "name": "stdout",
     "output_type": "stream",
     "text": [
      "created missing indicator for: salary_max\n"
     ]
    }
   ],
   "source": [
    "# create missing indicator for features with missing data\n",
    "for col in df_warszawa_per_hour.columns:\n",
    "    missing = df_warszawa_per_hour[col].isnull()\n",
    "    num_missing = np.sum(missing)\n",
    "    \n",
    "    if num_missing > 0:  \n",
    "        print('created missing indicator for: {}'.format(col))\n",
    "        df_warszawa_per_hour['{}_ismissing'.format(col)] = missing\n",
    "\n",
    "ismissing_cols = [col for col in df_warszawa_per_hour.columns if 'ismissing' in col]\n",
    "df_warszawa_per_hour['num_missing'] = df_warszawa_per_hour[ismissing_cols].sum(axis=1)"
   ]
  },
  {
   "cell_type": "code",
   "execution_count": 35,
   "metadata": {},
   "outputs": [
    {
     "name": "stdout",
     "output_type": "stream",
     "text": [
      "    salary_min  salary_max  salary_max_ismissing  num_missing\n",
      "1        19.00       20.00                 False            0\n",
      "2        17.00       18.00                 False            0\n",
      "3        74.67       84.03                 False            0\n",
      "4        67.43       75.11                 False            0\n",
      "5        23.00       27.00                 False            0\n",
      "6        71.00      105.00                 False            0\n",
      "8        25.00       33.00                 False            0\n",
      "10       22.00       23.00                 False            0\n",
      "11       22.80       25.00                 False            0\n",
      "12       20.00       25.00                 False            0\n"
     ]
    }
   ],
   "source": [
    "ind_missing = df_warszawa_per_hour[df_warszawa_per_hour['num_missing'] > 0].index\n",
    "\n",
    "# Przepisujemy do zmiennej df_warszawa_per_hour tylko obserwacje gdzie num_missing jest większe od 0\n",
    "df_warszawa_per_hour = df_warszawa_per_hour.drop(ind_missing, axis=0)\n",
    "print(df_warszawa_per_hour)"
   ]
  },
  {
   "cell_type": "code",
   "execution_count": 36,
   "metadata": {},
   "outputs": [
    {
     "data": {
      "text/html": [
       "<div>\n",
       "<style scoped>\n",
       "    .dataframe tbody tr th:only-of-type {\n",
       "        vertical-align: middle;\n",
       "    }\n",
       "\n",
       "    .dataframe tbody tr th {\n",
       "        vertical-align: top;\n",
       "    }\n",
       "\n",
       "    .dataframe thead th {\n",
       "        text-align: right;\n",
       "    }\n",
       "</style>\n",
       "<table border=\"1\" class=\"dataframe\">\n",
       "  <thead>\n",
       "    <tr style=\"text-align: right;\">\n",
       "      <th></th>\n",
       "      <th>salary_min</th>\n",
       "      <th>salary_max</th>\n",
       "      <th>salary_max_ismissing</th>\n",
       "      <th>num_missing</th>\n",
       "    </tr>\n",
       "  </thead>\n",
       "  <tbody>\n",
       "  </tbody>\n",
       "</table>\n",
       "</div>"
      ],
      "text/plain": [
       "Empty DataFrame\n",
       "Columns: [salary_min, salary_max, salary_max_ismissing, num_missing]\n",
       "Index: []"
      ]
     },
     "execution_count": 36,
     "metadata": {},
     "output_type": "execute_result"
    }
   ],
   "source": [
    "df_warszawa_per_hour.loc[(df_warszawa_per_hour['salary_max'].isnull())]"
   ]
  },
  {
   "cell_type": "code",
   "execution_count": 37,
   "metadata": {},
   "outputs": [],
   "source": [
    "cols_to_drop = ['salary_max_ismissing']\n",
    "df_warszawa_per_hour = df_warszawa_per_hour.drop(cols_to_drop, axis=1)"
   ]
  },
  {
   "cell_type": "code",
   "execution_count": 38,
   "metadata": {},
   "outputs": [
    {
     "name": "stdout",
     "output_type": "stream",
     "text": [
      "salary_max    43.514\n",
      "dtype: float64\n"
     ]
    }
   ],
   "source": [
    "df_warszawa_per_hour_mean_max = df_warszawa_per_hour[['salary_max']].mean()\n",
    "print(df_warszawa_per_hour_mean_max)"
   ]
  },
  {
   "attachments": {},
   "cell_type": "markdown",
   "metadata": {},
   "source": [
    "Salary per months"
   ]
  },
  {
   "cell_type": "code",
   "execution_count": 39,
   "metadata": {},
   "outputs": [
    {
     "data": {
      "text/html": [
       "<div>\n",
       "<style scoped>\n",
       "    .dataframe tbody tr th:only-of-type {\n",
       "        vertical-align: middle;\n",
       "    }\n",
       "\n",
       "    .dataframe tbody tr th {\n",
       "        vertical-align: top;\n",
       "    }\n",
       "\n",
       "    .dataframe thead th {\n",
       "        text-align: right;\n",
       "    }\n",
       "</style>\n",
       "<table border=\"1\" class=\"dataframe\">\n",
       "  <thead>\n",
       "    <tr style=\"text-align: right;\">\n",
       "      <th></th>\n",
       "      <th>time</th>\n",
       "      <th>salary_min</th>\n",
       "      <th>salary_max</th>\n",
       "    </tr>\n",
       "  </thead>\n",
       "  <tbody>\n",
       "    <tr>\n",
       "      <th>1</th>\n",
       "      <td>mies. brutto</td>\n",
       "      <td>5000</td>\n",
       "      <td>6000</td>\n",
       "    </tr>\n",
       "    <tr>\n",
       "      <th>2</th>\n",
       "      <td>mies. brutto</td>\n",
       "      <td>4500</td>\n",
       "      <td>5500</td>\n",
       "    </tr>\n",
       "    <tr>\n",
       "      <th>4</th>\n",
       "      <td>mies. brutto</td>\n",
       "      <td>5500</td>\n",
       "      <td>6500</td>\n",
       "    </tr>\n",
       "    <tr>\n",
       "      <th>6</th>\n",
       "      <td>mies. brutto</td>\n",
       "      <td>3000</td>\n",
       "      <td>3300</td>\n",
       "    </tr>\n",
       "    <tr>\n",
       "      <th>9</th>\n",
       "      <td>mies. brutto</td>\n",
       "      <td>4000</td>\n",
       "      <td>4500</td>\n",
       "    </tr>\n",
       "    <tr>\n",
       "      <th>12</th>\n",
       "      <td>mies. brutto</td>\n",
       "      <td>4000</td>\n",
       "      <td>4100</td>\n",
       "    </tr>\n",
       "    <tr>\n",
       "      <th>15</th>\n",
       "      <td>mies. brutto</td>\n",
       "      <td>4000</td>\n",
       "      <td>11000</td>\n",
       "    </tr>\n",
       "    <tr>\n",
       "      <th>16</th>\n",
       "      <td>mies. brutto</td>\n",
       "      <td>3000</td>\n",
       "      <td>9000</td>\n",
       "    </tr>\n",
       "    <tr>\n",
       "      <th>18</th>\n",
       "      <td>mies. brutto</td>\n",
       "      <td>1000</td>\n",
       "      <td>10000</td>\n",
       "    </tr>\n",
       "    <tr>\n",
       "      <th>19</th>\n",
       "      <td>mies. brutto</td>\n",
       "      <td>3000</td>\n",
       "      <td>7000</td>\n",
       "    </tr>\n",
       "    <tr>\n",
       "      <th>20</th>\n",
       "      <td>mies. brutto</td>\n",
       "      <td>3200</td>\n",
       "      <td>6500</td>\n",
       "    </tr>\n",
       "    <tr>\n",
       "      <th>22</th>\n",
       "      <td>mies. brutto</td>\n",
       "      <td>6000</td>\n",
       "      <td>9000</td>\n",
       "    </tr>\n",
       "    <tr>\n",
       "      <th>23</th>\n",
       "      <td>mies. brutto</td>\n",
       "      <td>7000</td>\n",
       "      <td>20000</td>\n",
       "    </tr>\n",
       "    <tr>\n",
       "      <th>24</th>\n",
       "      <td>mies. brutto</td>\n",
       "      <td>5800</td>\n",
       "      <td>7600</td>\n",
       "    </tr>\n",
       "    <tr>\n",
       "      <th>25</th>\n",
       "      <td>mies. brutto</td>\n",
       "      <td>9000</td>\n",
       "      <td>16000</td>\n",
       "    </tr>\n",
       "    <tr>\n",
       "      <th>26</th>\n",
       "      <td>mies. brutto</td>\n",
       "      <td>5000</td>\n",
       "      <td>25000</td>\n",
       "    </tr>\n",
       "    <tr>\n",
       "      <th>27</th>\n",
       "      <td>mies. brutto</td>\n",
       "      <td>5000</td>\n",
       "      <td>8000</td>\n",
       "    </tr>\n",
       "    <tr>\n",
       "      <th>29</th>\n",
       "      <td>mies. brutto</td>\n",
       "      <td>4800</td>\n",
       "      <td>8000</td>\n",
       "    </tr>\n",
       "    <tr>\n",
       "      <th>30</th>\n",
       "      <td>mies. brutto</td>\n",
       "      <td>10000</td>\n",
       "      <td>100000</td>\n",
       "    </tr>\n",
       "  </tbody>\n",
       "</table>\n",
       "</div>"
      ],
      "text/plain": [
       "             time salary_min salary_max\n",
       "1    mies. brutto       5000       6000\n",
       "2    mies. brutto       4500       5500\n",
       "4    mies. brutto       5500       6500\n",
       "6    mies. brutto       3000       3300\n",
       "9    mies. brutto       4000       4500\n",
       "12   mies. brutto       4000       4100\n",
       "15   mies. brutto       4000      11000\n",
       "16   mies. brutto       3000       9000\n",
       "18   mies. brutto       1000      10000\n",
       "19   mies. brutto       3000       7000\n",
       "20   mies. brutto       3200       6500\n",
       "22   mies. brutto       6000       9000\n",
       "23   mies. brutto       7000      20000\n",
       "24   mies. brutto       5800       7600\n",
       "25   mies. brutto       9000      16000\n",
       "26   mies. brutto       5000      25000\n",
       "27   mies. brutto       5000       8000\n",
       "29   mies. brutto       4800       8000\n",
       "30   mies. brutto      10000     100000"
      ]
     },
     "execution_count": 39,
     "metadata": {},
     "output_type": "execute_result"
    }
   ],
   "source": [
    "options_warszawa = [' mies. brutto']\n",
    "df_warszawa_per_month = df_salary_warszawa[df_salary_warszawa['time'].isin(options_warszawa)]\n",
    "df_warszawa_per_month"
   ]
  },
  {
   "cell_type": "code",
   "execution_count": 40,
   "metadata": {},
   "outputs": [],
   "source": [
    "del df_warszawa_per_month['time']"
   ]
  },
  {
   "cell_type": "code",
   "execution_count": 41,
   "metadata": {},
   "outputs": [],
   "source": [
    "df_warszawa_per_month.to_csv('df_warszawa_per_month.csv', index=False)"
   ]
  },
  {
   "cell_type": "code",
   "execution_count": 42,
   "metadata": {},
   "outputs": [],
   "source": [
    "df_warszawa_per_month = pd.read_csv('df_warszawa_per_month.csv')"
   ]
  },
  {
   "cell_type": "code",
   "execution_count": 43,
   "metadata": {},
   "outputs": [
    {
     "name": "stdout",
     "output_type": "stream",
     "text": [
      "salary_min    4884.210526\n",
      "dtype: float64\n"
     ]
    }
   ],
   "source": [
    "df_warszawa_per_month_mean_min = df_warszawa_per_month[['salary_min']].mean()\n",
    "print(df_warszawa_per_month_mean_min)"
   ]
  },
  {
   "cell_type": "code",
   "execution_count": 44,
   "metadata": {},
   "outputs": [
    {
     "name": "stdout",
     "output_type": "stream",
     "text": [
      "salary_max    14052.631579\n",
      "dtype: float64\n"
     ]
    }
   ],
   "source": [
    "df_warszawa_per_month_mean_max = df_warszawa_per_month[['salary_max']].mean()\n",
    "print(df_warszawa_per_month_mean_max)"
   ]
  },
  {
   "attachments": {},
   "cell_type": "markdown",
   "metadata": {},
   "source": [
    "Salary Kraków"
   ]
  },
  {
   "cell_type": "code",
   "execution_count": 45,
   "metadata": {},
   "outputs": [
    {
     "name": "stdout",
     "output_type": "stream",
     "text": [
      "salary_min    23.548333\n",
      "dtype: float64\n",
      "   salary_min  salary_max  num_missing\n",
      "0       23.00        24.0          0.0\n",
      "1       28.00        35.0          0.0\n",
      "2       21.50        25.7          0.0\n",
      "3       23.00        24.0          0.0\n",
      "4       20.80        26.0          0.0\n",
      "5       24.99        25.0          0.0\n",
      "salary_max    26.616667\n",
      "dtype: float64\n",
      "salary_min    4307.636364\n",
      "dtype: float64\n",
      "salary_max    8166.727273\n",
      "dtype: float64\n"
     ]
    }
   ],
   "source": [
    "url = \"https://www.olx.pl/d/praca/krakow/\"\n",
    "response_krakow = requests.get(url)\n",
    "soup = BeautifulSoup(response_krakow.content, \"html.parser\")\n",
    "\n",
    "results_krakow = soup.find(id=\"root\")\n",
    "\n",
    "job_elements_krakow = results_krakow.find_all(\"div\", {\"class\":\"css-gx18fk\"})\n",
    "list_kra = \"\"\n",
    "for job_element_krakow in job_elements_krakow:\n",
    "    job_salaries_krakow = job_element_krakow.find(\"p\", class_=\"css-16ldsa0 er34gjf0\")\n",
    "    if job_salaries_krakow != None:\n",
    "        element = job_salaries_krakow.text\n",
    "        list_kra += element + \"\\n\"\n",
    "\t\t\n",
    "salary_krakow = list_kra.splitlines()\n",
    "\n",
    "dict_salary_krakow = {'Salary':salary_krakow}\n",
    "df_salary_krakow = pd.DataFrame(dict_salary_krakow)\n",
    "\n",
    "df_salary_krakow[['salary_value','time']] = df_salary_krakow.Salary.str.split(\"/\",expand=True)\n",
    "\n",
    "df_salary_krakow[['salary_min','salary_max']] = df_salary_krakow.salary_value.str.split(\"-\",expand=True)\n",
    "\n",
    "df_salary_krakow['salary_min'] = df_salary_krakow['salary_min'].str.replace(' zł', '')\n",
    "\n",
    "df_salary_krakow['salary_max'] = df_salary_krakow['salary_max'].str.replace(' zł zł ', '')\n",
    "\n",
    "df_salary_krakow['salary_max'] = df_salary_krakow['salary_max'].str.replace(' ', '')\n",
    "\n",
    "df_salary_krakow['salary_min'] = df_salary_krakow['salary_min'].str.replace(' ', '')\n",
    "\n",
    "df_salary_krakow = df_salary_krakow.fillna(value=np.nan)\n",
    "\n",
    "df_salary_krakow['salary_max'] = df_salary_krakow['salary_max'].str.replace(',', '.')\n",
    "\n",
    "df_salary_krakow['salary_min'] = df_salary_krakow['salary_min'].str.replace(',', '.')\n",
    "\n",
    "del df_salary_krakow['Salary']\n",
    "\n",
    "del df_salary_krakow['salary_value']\n",
    "\n",
    "options_krakow = [' godz. brutto']\n",
    "df_krakow_per_hour = df_salary_krakow[df_salary_krakow['time'].isin(options_krakow)]\n",
    "df_krakow_per_hour.to_csv('df_krakow_per_hour.csv', index=False)\n",
    "df_krakow_per_hour\n",
    "\n",
    "del df_krakow_per_hour['time']\n",
    "\n",
    "df_krakow_per_hour.to_csv('df_krakow_per_hour.csv', index=False)\n",
    "\n",
    "df_krakow_per_hour = pd.read_csv('df_krakow_per_hour.csv')\n",
    "\n",
    "df_krakow_per_hour_mean_min = df_krakow_per_hour[['salary_min']].mean()\n",
    "print(df_krakow_per_hour_mean_min)\n",
    "\n",
    "df_krakow_per_hour.loc[(df_krakow_per_hour['salary_max'].isnull())]\n",
    "\n",
    "\n",
    "# create missing indicator for features with missing data\n",
    "for col in df_krakow_per_hour.columns:\n",
    "    missing = df_krakow_per_hour[col].isnull()\n",
    "    num_missing = np.sum(missing)\n",
    "    \n",
    "    if num_missing > 0:  \n",
    "        print('created missing indicator for: {}'.format(col))\n",
    "        df_krakow_per_hour['{}_ismissing'.format(col)] = missing\n",
    "\n",
    "ismissing_cols = [col for col in df_krakow_per_hour.columns if 'ismissing' in col]\n",
    "df_krakow_per_hour['num_missing'] = df_krakow_per_hour[ismissing_cols].sum(axis=1)\n",
    "\n",
    "\n",
    "\n",
    "ind_missing = df_krakow_per_hour[df_krakow_per_hour['num_missing'] > 0].index\n",
    "\n",
    "# Przepisujemy do zmiennej df_krakow_per_hour tylko obserwacje gdzie num_missing jest większe od 0\n",
    "df_krakow_per_hour = df_krakow_per_hour.drop(ind_missing, axis=0)\n",
    "print(df_krakow_per_hour)\n",
    "\n",
    "df_krakow_per_hour.loc[(df_krakow_per_hour['salary_max'].isnull())]\n",
    "\n",
    "#cols_to_drop = ['salary_max_ismissing']\n",
    "#df_krakow_per_hour = df_krakow_per_hour.drop(cols_to_drop, axis=1)\n",
    "\n",
    "df_krakow_per_hour_mean_max = df_krakow_per_hour[['salary_max']].mean()\n",
    "print(df_krakow_per_hour_mean_max)\n",
    "\n",
    "\n",
    "options_krakow = [' mies. brutto']\n",
    "df_krakow_per_month = df_salary_krakow[df_salary_krakow['time'].isin(options_krakow)]\n",
    "df_krakow_per_month\n",
    "\n",
    "del df_krakow_per_month['time']\n",
    "\n",
    "df_krakow_per_month.to_csv('df_krakow_per_month.csv', index=False)\n",
    "\n",
    "df_krakow_per_month = pd.read_csv('df_krakow_per_month.csv')\n",
    "\n",
    "df_krakow_per_month_mean_min = df_krakow_per_month[['salary_min']].mean()\n",
    "print(df_krakow_per_month_mean_min)\n",
    "\n",
    "df_krakow_per_month_mean_max = df_krakow_per_month[['salary_max']].mean()\n",
    "print(df_krakow_per_month_mean_max)"
   ]
  },
  {
   "attachments": {},
   "cell_type": "markdown",
   "metadata": {},
   "source": [
    "Salary Łódź"
   ]
  },
  {
   "cell_type": "code",
   "execution_count": 46,
   "metadata": {},
   "outputs": [
    {
     "name": "stdout",
     "output_type": "stream",
     "text": [
      "salary_min    24.083333\n",
      "dtype: float64\n",
      "created missing indicator for: salary_max\n",
      "   salary_min  salary_max  salary_max_ismissing  num_missing\n",
      "0        23.0        35.0                 False            0\n",
      "1        30.0        45.0                 False            0\n",
      "2        17.0        18.0                 False            0\n",
      "3        32.0        35.0                 False            0\n",
      "5        22.8        23.0                 False            0\n",
      "salary_max    31.2\n",
      "dtype: float64\n",
      "salary_min    4855.555556\n",
      "dtype: float64\n",
      "salary_max    8211.764706\n",
      "dtype: float64\n"
     ]
    }
   ],
   "source": [
    "url = \"https://www.olx.pl/d/praca/lodz/\"\n",
    "response_lodz = requests.get(url)\n",
    "soup = BeautifulSoup(response_lodz.content, \"html.parser\")\n",
    "\n",
    "results_lodz = soup.find(id=\"root\")\n",
    "\n",
    "job_elements_lodz = results_lodz.find_all(\"div\", {\"class\":\"css-gx18fk\"})\n",
    "list_lodz = \"\"\n",
    "for job_element_lodz in job_elements_lodz:\n",
    "    job_salaries_lodz = job_element_lodz.find(\"p\", class_=\"css-16ldsa0 er34gjf0\")\n",
    "    if job_salaries_lodz != None:\n",
    "        element = job_salaries_lodz.text\n",
    "        list_lodz += element + \"\\n\"\n",
    "\t\t\n",
    "salary_lodz = list_lodz.splitlines()\n",
    "\n",
    "dict_salary_lodz = {'Salary':salary_lodz}\n",
    "df_salary_lodz = pd.DataFrame(dict_salary_lodz)\n",
    "\n",
    "df_salary_lodz[['salary_value','time']] = df_salary_lodz.Salary.str.split(\"/\",expand=True)\n",
    "\n",
    "df_salary_lodz[['salary_min','salary_max']] = df_salary_lodz.salary_value.str.split(\"-\",expand=True)\n",
    "\n",
    "df_salary_lodz['salary_min'] = df_salary_lodz['salary_min'].str.replace(' zł', '')\n",
    "\n",
    "df_salary_lodz['salary_max'] = df_salary_lodz['salary_max'].str.replace(' zł zł ', '')\n",
    "\n",
    "df_salary_lodz['salary_max'] = df_salary_lodz['salary_max'].str.replace(' ', '')\n",
    "\n",
    "df_salary_lodz['salary_min'] = df_salary_lodz['salary_min'].str.replace(' ', '')\n",
    "\n",
    "df_salary_lodz = df_salary_lodz.fillna(value=np.nan)\n",
    "\n",
    "df_salary_lodz['salary_max'] = df_salary_lodz['salary_max'].str.replace(',', '.')\n",
    "\n",
    "df_salary_lodz['salary_min'] = df_salary_lodz['salary_min'].str.replace(',', '.')\n",
    "\n",
    "del df_salary_lodz['Salary']\n",
    "\n",
    "del df_salary_lodz['salary_value']\n",
    "\n",
    "options_lodz = [' godz. brutto']\n",
    "df_lodz_per_hour = df_salary_lodz[df_salary_lodz['time'].isin(options_lodz)]\n",
    "df_lodz_per_hour.to_csv('df_lodz_per_hour.csv', index=False)\n",
    "df_lodz_per_hour\n",
    "\n",
    "del df_lodz_per_hour['time']\n",
    "\n",
    "df_lodz_per_hour.to_csv('df_lodz_per_hour.csv', index=False)\n",
    "\n",
    "df_lodz_per_hour = pd.read_csv('df_lodz_per_hour.csv')\n",
    "\n",
    "df_lodz_per_hour_mean_min = df_lodz_per_hour[['salary_min']].mean()\n",
    "print(df_lodz_per_hour_mean_min)\n",
    "\n",
    "df_lodz_per_hour.loc[(df_lodz_per_hour['salary_max'].isnull())]\n",
    "\n",
    "\n",
    "# create missing indicator for features with missing data\n",
    "for col in df_lodz_per_hour.columns:\n",
    "    missing = df_lodz_per_hour[col].isnull()\n",
    "    num_missing = np.sum(missing)\n",
    "    \n",
    "    if num_missing > 0:  \n",
    "        print('created missing indicator for: {}'.format(col))\n",
    "        df_lodz_per_hour['{}_ismissing'.format(col)] = missing\n",
    "\n",
    "ismissing_cols = [col for col in df_lodz_per_hour.columns if 'ismissing' in col]\n",
    "df_lodz_per_hour['num_missing'] = df_lodz_per_hour[ismissing_cols].sum(axis=1)\n",
    "\n",
    "\n",
    "\n",
    "ind_missing = df_lodz_per_hour[df_lodz_per_hour['num_missing'] > 0].index\n",
    "\n",
    "# Przepisujemy do zmiennej df_lodz_per_hour tylko obserwacje gdzie num_missing jest większe od 0\n",
    "df_lodz_per_hour = df_lodz_per_hour.drop(ind_missing, axis=0)\n",
    "print(df_lodz_per_hour)\n",
    "\n",
    "df_lodz_per_hour.loc[(df_lodz_per_hour['salary_max'].isnull())]\n",
    "\n",
    "cols_to_drop = ['salary_max_ismissing']\n",
    "df_lodz_per_hour = df_lodz_per_hour.drop(cols_to_drop, axis=1)\n",
    "\n",
    "df_lodz_per_hour_mean_max = df_lodz_per_hour[['salary_max']].mean()\n",
    "print(df_lodz_per_hour_mean_max)\n",
    "\n",
    "\n",
    "options_lodz = [' mies. brutto']\n",
    "df_lodz_per_month = df_salary_lodz[df_salary_lodz['time'].isin(options_lodz)]\n",
    "df_lodz_per_month\n",
    "\n",
    "del df_lodz_per_month['time']\n",
    "\n",
    "df_lodz_per_month.to_csv('df_lodz_per_month.csv', index=False)\n",
    "\n",
    "df_lodz_per_month = pd.read_csv('df_lodz_per_month.csv')\n",
    "\n",
    "df_lodz_per_month_mean_min = df_lodz_per_month[['salary_min']].mean()\n",
    "print(df_lodz_per_month_mean_min)\n",
    "\n",
    "df_lodz_per_month_mean_max = df_lodz_per_month[['salary_max']].mean()\n",
    "print(df_lodz_per_month_mean_max)"
   ]
  },
  {
   "attachments": {},
   "cell_type": "markdown",
   "metadata": {},
   "source": [
    "Poznań"
   ]
  },
  {
   "cell_type": "code",
   "execution_count": 47,
   "metadata": {},
   "outputs": [
    {
     "name": "stdout",
     "output_type": "stream",
     "text": [
      "salary_min    22.828571\n",
      "dtype: float64\n",
      "created missing indicator for: salary_max\n",
      "salary_max    25.135\n",
      "dtype: float64\n",
      "salary_min    5200.0\n",
      "dtype: float64\n",
      "salary_max    12700.0\n",
      "dtype: float64\n"
     ]
    }
   ],
   "source": [
    "url = \"https://www.olx.pl/d/praca/poznan/\"\n",
    "response_poznan = requests.get(url)\n",
    "soup = BeautifulSoup(response_poznan.content, \"html.parser\")\n",
    "\n",
    "results_poznan = soup.find(id=\"root\")\n",
    "\n",
    "job_elements_poznan = results_poznan.find_all(\"div\", {\"class\":\"css-gx18fk\"})\n",
    "list_poznan = \"\"\n",
    "for job_element_poznan in job_elements_poznan:\n",
    "    job_salaries_poznan = job_element_poznan.find(\"p\", class_=\"css-16ldsa0 er34gjf0\")\n",
    "    if job_salaries_poznan != None:\n",
    "        element = job_salaries_poznan.text\n",
    "        list_poznan += element + \"\\n\"\n",
    "\t\t\n",
    "salary_poznan = list_poznan.splitlines()\n",
    "\n",
    "dict_salary_poznan = {'Salary':salary_poznan}\n",
    "df_salary_poznan = pd.DataFrame(dict_salary_poznan)\n",
    "\n",
    "df_salary_poznan[['salary_value','time']] = df_salary_poznan.Salary.str.split(\"/\",expand=True)\n",
    "\n",
    "df_salary_poznan[['salary_min','salary_max']] = df_salary_poznan.salary_value.str.split(\"-\",expand=True)\n",
    "\n",
    "df_salary_poznan['salary_min'] = df_salary_poznan['salary_min'].str.replace(' zł', '')\n",
    "\n",
    "df_salary_poznan['salary_max'] = df_salary_poznan['salary_max'].str.replace(' zł zł ', '')\n",
    "\n",
    "df_salary_poznan['salary_max'] = df_salary_poznan['salary_max'].str.replace(' ', '')\n",
    "\n",
    "df_salary_poznan['salary_min'] = df_salary_poznan['salary_min'].str.replace(' ', '')\n",
    "\n",
    "df_salary_poznan = df_salary_poznan.fillna(value=np.nan)\n",
    "\n",
    "df_salary_poznan['salary_max'] = df_salary_poznan['salary_max'].str.replace(',', '.')\n",
    "\n",
    "df_salary_poznan['salary_min'] = df_salary_poznan['salary_min'].str.replace(',', '.')\n",
    "\n",
    "del df_salary_poznan['Salary']\n",
    "\n",
    "del df_salary_poznan['salary_value']\n",
    "\n",
    "options_poznan = [' godz. brutto']\n",
    "df_poznan_per_hour = df_salary_poznan[df_salary_poznan['time'].isin(options_poznan)]\n",
    "df_poznan_per_hour.to_csv('df_poznan_per_hour.csv', index=False)\n",
    "df_poznan_per_hour\n",
    "\n",
    "del df_poznan_per_hour['time']\n",
    "\n",
    "df_poznan_per_hour.to_csv('df_poznan_per_hour.csv', index=False)\n",
    "\n",
    "df_poznan_per_hour = pd.read_csv('df_poznan_per_hour.csv')\n",
    "\n",
    "df_poznan_per_hour_mean_min = df_poznan_per_hour[['salary_min']].mean()\n",
    "print(df_poznan_per_hour_mean_min)\n",
    "\n",
    "df_poznan_per_hour.loc[(df_poznan_per_hour['salary_max'].isnull())]\n",
    "\n",
    "\n",
    "# create missing indicator for features with missing data\n",
    "for col in df_poznan_per_hour.columns:\n",
    "    missing = df_poznan_per_hour[col].isnull()\n",
    "    num_missing = np.sum(missing)\n",
    "    \n",
    "    if num_missing > 0:  \n",
    "        print('created missing indicator for: {}'.format(col))\n",
    "        df_poznan_per_hour['{}_ismissing'.format(col)] = missing\n",
    "\n",
    "ismissing_cols = [col for col in df_poznan_per_hour.columns if 'ismissing' in col]\n",
    "df_poznan_per_hour['num_missing'] = df_poznan_per_hour[ismissing_cols].sum(axis=1)\n",
    "\n",
    "\n",
    "\n",
    "ind_missing = df_poznan_per_hour[df_poznan_per_hour['num_missing'] > 0].index\n",
    "\n",
    "# Przepisujemy do zmiennej df_poznan_per_hour tylko obserwacje gdzie num_missing jest większe od 0\n",
    "df_poznan_per_hour = df_poznan_per_hour.drop(ind_missing, axis=0)\n",
    "#print(df_poznan_per_hour)\n",
    "\n",
    "df_poznan_per_hour.loc[(df_poznan_per_hour['salary_max'].isnull())]\n",
    "\n",
    "#cols_to_drop = ['salary_max_ismissing']\n",
    "#df_poznan_per_hour = df_poznan_per_hour.drop(cols_to_drop, axis=1)\n",
    "\n",
    "df_poznan_per_hour_mean_max = df_poznan_per_hour[['salary_max']].mean()\n",
    "print(df_poznan_per_hour_mean_max)\n",
    "\n",
    "\n",
    "options_poznan = [' mies. brutto']\n",
    "df_poznan_per_month = df_salary_poznan[df_salary_poznan['time'].isin(options_poznan)]\n",
    "df_poznan_per_month\n",
    "\n",
    "del df_poznan_per_month['time']\n",
    "\n",
    "df_poznan_per_month.to_csv('df_poznan_per_month.csv', index=False)\n",
    "\n",
    "df_poznan_per_month = pd.read_csv('df_poznan_per_month.csv')\n",
    "\n",
    "df_poznan_per_month_mean_min = df_poznan_per_month[['salary_min']].mean()\n",
    "print(df_poznan_per_month_mean_min)\n",
    "\n",
    "df_poznan_per_month_mean_max = df_poznan_per_month[['salary_max']].mean()\n",
    "print(df_poznan_per_month_mean_max)"
   ]
  },
  {
   "attachments": {},
   "cell_type": "markdown",
   "metadata": {},
   "source": [
    "Katowice"
   ]
  },
  {
   "cell_type": "code",
   "execution_count": 48,
   "metadata": {},
   "outputs": [
    {
     "name": "stdout",
     "output_type": "stream",
     "text": [
      "salary_min    22.933333\n",
      "dtype: float64\n",
      "salary_max    26.266667\n",
      "dtype: float64\n",
      "salary_min    4497.571429\n",
      "dtype: float64\n",
      "salary_max    7373.5\n",
      "dtype: float64\n"
     ]
    }
   ],
   "source": [
    "url = \"https://www.olx.pl/d/praca/katowice/\"\n",
    "response_katowice = requests.get(url)\n",
    "soup = BeautifulSoup(response_katowice.content, \"html.parser\")\n",
    "\n",
    "results_katowice = soup.find(id=\"root\")\n",
    "\n",
    "job_elements_katowice = results_katowice.find_all(\"div\", {\"class\":\"css-gx18fk\"})\n",
    "list_katowice = \"\"\n",
    "for job_element_katowice in job_elements_katowice:\n",
    "    job_salaries_katowice = job_element_katowice.find(\"p\", class_=\"css-16ldsa0 er34gjf0\")\n",
    "    if job_salaries_katowice != None:\n",
    "        element = job_salaries_katowice.text\n",
    "        list_katowice += element + \"\\n\"\n",
    "\t\t\n",
    "salary_katowice = list_katowice.splitlines()\n",
    "\n",
    "dict_salary_katowice = {'Salary':salary_katowice}\n",
    "df_salary_katowice = pd.DataFrame(dict_salary_katowice)\n",
    "\n",
    "df_salary_katowice[['salary_value','time']] = df_salary_katowice.Salary.str.split(\"/\",expand=True)\n",
    "\n",
    "df_salary_katowice[['salary_min','salary_max']] = df_salary_katowice.salary_value.str.split(\"-\",expand=True)\n",
    "\n",
    "df_salary_katowice['salary_min'] = df_salary_katowice['salary_min'].str.replace(' zł', '')\n",
    "\n",
    "df_salary_katowice['salary_max'] = df_salary_katowice['salary_max'].str.replace(' zł zł ', '')\n",
    "\n",
    "df_salary_katowice['salary_max'] = df_salary_katowice['salary_max'].str.replace(' ', '')\n",
    "\n",
    "df_salary_katowice['salary_min'] = df_salary_katowice['salary_min'].str.replace(' ', '')\n",
    "\n",
    "df_salary_katowice = df_salary_katowice.fillna(value=np.nan)\n",
    "\n",
    "df_salary_katowice['salary_max'] = df_salary_katowice['salary_max'].str.replace(',', '.')\n",
    "\n",
    "df_salary_katowice['salary_min'] = df_salary_katowice['salary_min'].str.replace(',', '.')\n",
    "\n",
    "del df_salary_katowice['Salary']\n",
    "\n",
    "del df_salary_katowice['salary_value']\n",
    "\n",
    "options_katowice = [' godz. brutto']\n",
    "df_katowice_per_hour = df_salary_katowice[df_salary_katowice['time'].isin(options_katowice)]\n",
    "df_katowice_per_hour.to_csv('df_katowice_per_hour.csv', index=False)\n",
    "df_katowice_per_hour\n",
    "\n",
    "del df_katowice_per_hour['time']\n",
    "\n",
    "df_katowice_per_hour.to_csv('df_katowice_per_hour.csv', index=False)\n",
    "\n",
    "df_katowice_per_hour = pd.read_csv('df_katowice_per_hour.csv')\n",
    "\n",
    "df_katowice_per_hour_mean_min = df_katowice_per_hour[['salary_min']].mean()\n",
    "print(df_katowice_per_hour_mean_min)\n",
    "\n",
    "df_katowice_per_hour.loc[(df_katowice_per_hour['salary_max'].isnull())]\n",
    "\n",
    "\n",
    "# create missing indicator for features with missing data\n",
    "for col in df_katowice_per_hour.columns:\n",
    "    missing = df_katowice_per_hour[col].isnull()\n",
    "    num_missing = np.sum(missing)\n",
    "    \n",
    "    if num_missing > 0:  \n",
    "        print('created missing indicator for: {}'.format(col))\n",
    "        df_katowice_per_hour['{}_ismissing'.format(col)] = missing\n",
    "\n",
    "ismissing_cols = [col for col in df_katowice_per_hour.columns if 'ismissing' in col]\n",
    "df_katowice_per_hour['num_missing'] = df_katowice_per_hour[ismissing_cols].sum(axis=1)\n",
    "\n",
    "\n",
    "\n",
    "ind_missing = df_katowice_per_hour[df_katowice_per_hour['num_missing'] > 0].index\n",
    "\n",
    "# Przepisujemy do zmiennej df_katowice_per_hour tylko obserwacje gdzie num_missing jest większe od 0\n",
    "df_katowice_per_hour = df_katowice_per_hour.drop(ind_missing, axis=0)\n",
    "#print(df_katowice_per_hour)\n",
    "\n",
    "df_katowice_per_hour.loc[(df_katowice_per_hour['salary_max'].isnull())]\n",
    "\n",
    "cols_to_drop = ['num_missing']\n",
    "df_katowice_per_hour = df_katowice_per_hour.drop(cols_to_drop, axis=1)\n",
    "\n",
    "df_katowice_per_hour_mean_max = df_katowice_per_hour[['salary_max']].mean()\n",
    "print(df_katowice_per_hour_mean_max)\n",
    "\n",
    "\n",
    "options_katowice = [' mies. brutto']\n",
    "df_katowice_per_month = df_salary_katowice[df_salary_katowice['time'].isin(options_katowice)]\n",
    "df_katowice_per_month\n",
    "\n",
    "del df_katowice_per_month['time']\n",
    "\n",
    "df_katowice_per_month.to_csv('df_katowice_per_month.csv', index=False)\n",
    "\n",
    "df_katowice_per_month = pd.read_csv('df_katowice_per_month.csv')\n",
    "\n",
    "df_katowice_per_month_mean_min = df_katowice_per_month[['salary_min']].mean()\n",
    "print(df_katowice_per_month_mean_min)\n",
    "\n",
    "df_katowice_per_month_mean_max = df_katowice_per_month[['salary_max']].mean()\n",
    "print(df_katowice_per_month_mean_max)"
   ]
  },
  {
   "attachments": {},
   "cell_type": "markdown",
   "metadata": {},
   "source": [
    "Wrocław"
   ]
  },
  {
   "cell_type": "code",
   "execution_count": 49,
   "metadata": {},
   "outputs": [
    {
     "name": "stdout",
     "output_type": "stream",
     "text": [
      "salary_min    24.027273\n",
      "dtype: float64\n",
      "salary_max    31.518182\n",
      "dtype: float64\n",
      "salary_min    4506.933333\n",
      "dtype: float64\n",
      "salary_max    12711.904762\n",
      "dtype: float64\n"
     ]
    }
   ],
   "source": [
    "url = \"https://www.olx.pl/d/praca/wroclaw/\"\n",
    "response_wroclaw = requests.get(url)\n",
    "soup = BeautifulSoup(response_wroclaw.content, \"html.parser\")\n",
    "\n",
    "results_wroclaw = soup.find(id=\"root\")\n",
    "\n",
    "job_elements_wroclaw = results_wroclaw.find_all(\"div\", {\"class\":\"css-gx18fk\"})\n",
    "list_wroclaw = \"\"\n",
    "for job_element_wroclaw in job_elements_wroclaw:\n",
    "    job_salaries_wroclaw = job_element_wroclaw.find(\"p\", class_=\"css-16ldsa0 er34gjf0\")\n",
    "    if job_salaries_wroclaw != None:\n",
    "        element = job_salaries_wroclaw.text\n",
    "        list_wroclaw += element + \"\\n\"\n",
    "\t\t\n",
    "salary_wroclaw = list_wroclaw.splitlines()\n",
    "\n",
    "dict_salary_wroclaw = {'Salary':salary_wroclaw}\n",
    "df_salary_wroclaw = pd.DataFrame(dict_salary_wroclaw)\n",
    "\n",
    "df_salary_wroclaw[['salary_value','time']] = df_salary_wroclaw.Salary.str.split(\"/\",expand=True)\n",
    "\n",
    "df_salary_wroclaw[['salary_min','salary_max']] = df_salary_wroclaw.salary_value.str.split(\"-\",expand=True)\n",
    "\n",
    "df_salary_wroclaw['salary_min'] = df_salary_wroclaw['salary_min'].str.replace(' zł', '')\n",
    "\n",
    "df_salary_wroclaw['salary_max'] = df_salary_wroclaw['salary_max'].str.replace(' zł zł ', '')\n",
    "\n",
    "df_salary_wroclaw['salary_max'] = df_salary_wroclaw['salary_max'].str.replace(' ', '')\n",
    "\n",
    "df_salary_wroclaw['salary_min'] = df_salary_wroclaw['salary_min'].str.replace(' ', '')\n",
    "\n",
    "df_salary_wroclaw = df_salary_wroclaw.fillna(value=np.nan)\n",
    "\n",
    "df_salary_wroclaw['salary_max'] = df_salary_wroclaw['salary_max'].str.replace(',', '.')\n",
    "\n",
    "df_salary_wroclaw['salary_min'] = df_salary_wroclaw['salary_min'].str.replace(',', '.')\n",
    "\n",
    "del df_salary_wroclaw['Salary']\n",
    "\n",
    "del df_salary_wroclaw['salary_value']\n",
    "\n",
    "options_wroclaw = [' godz. brutto']\n",
    "df_wroclaw_per_hour = df_salary_wroclaw[df_salary_wroclaw['time'].isin(options_wroclaw)]\n",
    "df_wroclaw_per_hour.to_csv('df_wroclaw_per_hour.csv', index=False)\n",
    "df_wroclaw_per_hour\n",
    "\n",
    "del df_wroclaw_per_hour['time']\n",
    "\n",
    "df_wroclaw_per_hour.to_csv('df_wroclaw_per_hour.csv', index=False)\n",
    "\n",
    "df_wroclaw_per_hour = pd.read_csv('df_wroclaw_per_hour.csv')\n",
    "\n",
    "df_wroclaw_per_hour_mean_min = df_wroclaw_per_hour[['salary_min']].mean()\n",
    "print(df_wroclaw_per_hour_mean_min)\n",
    "\n",
    "df_wroclaw_per_hour.loc[(df_wroclaw_per_hour['salary_max'].isnull())]\n",
    "\n",
    "\n",
    "# create missing indicator for features with missing data\n",
    "for col in df_wroclaw_per_hour.columns:\n",
    "    missing = df_wroclaw_per_hour[col].isnull()\n",
    "    num_missing = np.sum(missing)\n",
    "    \n",
    "    if num_missing > 0:  \n",
    "        print('created missing indicator for: {}'.format(col))\n",
    "        df_wroclaw_per_hour['{}_ismissing'.format(col)] = missing\n",
    "\n",
    "ismissing_cols = [col for col in df_wroclaw_per_hour.columns if 'ismissing' in col]\n",
    "df_wroclaw_per_hour['num_missing'] = df_wroclaw_per_hour[ismissing_cols].sum(axis=1)\n",
    "\n",
    "\n",
    "\n",
    "ind_missing = df_wroclaw_per_hour[df_wroclaw_per_hour['num_missing'] > 0].index\n",
    "\n",
    "# Przepisujemy do zmiennej df_wroclaw_per_hour tylko obserwacje gdzie num_missing jest większe od 0\n",
    "df_wroclaw_per_hour = df_wroclaw_per_hour.drop(ind_missing, axis=0)\n",
    "#print(df_wroclaw_per_hour)\n",
    "\n",
    "df_wroclaw_per_hour.loc[(df_wroclaw_per_hour['salary_max'].isnull())]\n",
    "\n",
    "#cols_to_drop = ['salary_max_ismissing']\n",
    "#df_wroclaw_per_hour = df_wroclaw_per_hour.drop(cols_to_drop, axis=1)\n",
    "\n",
    "df_wroclaw_per_hour_mean_max = df_wroclaw_per_hour[['salary_max']].mean()\n",
    "print(df_wroclaw_per_hour_mean_max)\n",
    "\n",
    "\n",
    "options_wroclaw = [' mies. brutto']\n",
    "df_wroclaw_per_month = df_salary_wroclaw[df_salary_wroclaw['time'].isin(options_wroclaw)]\n",
    "df_wroclaw_per_month\n",
    "\n",
    "del df_wroclaw_per_month['time']\n",
    "\n",
    "df_wroclaw_per_month.to_csv('df_wroclaw_per_month.csv', index=False)\n",
    "\n",
    "df_wroclaw_per_month = pd.read_csv('df_wroclaw_per_month.csv')\n",
    "\n",
    "df_wroclaw_per_month_mean_min = df_wroclaw_per_month[['salary_min']].mean()\n",
    "print(df_wroclaw_per_month_mean_min)\n",
    "\n",
    "df_wroclaw_per_month_mean_max = df_wroclaw_per_month[['salary_max']].mean()\n",
    "print(df_wroclaw_per_month_mean_max)"
   ]
  },
  {
   "attachments": {},
   "cell_type": "markdown",
   "metadata": {},
   "source": [
    "Comperison of salary"
   ]
  },
  {
   "cell_type": "code",
   "execution_count": 50,
   "metadata": {},
   "outputs": [],
   "source": [
    "import matplotlib.pyplot as plt"
   ]
  },
  {
   "cell_type": "code",
   "execution_count": null,
   "metadata": {},
   "outputs": [],
   "source": []
  }
 ],
 "metadata": {
  "kernelspec": {
   "display_name": "vsc",
   "language": "python",
   "name": "python3"
  },
  "language_info": {
   "codemirror_mode": {
    "name": "ipython",
    "version": 3
   },
   "file_extension": ".py",
   "mimetype": "text/x-python",
   "name": "python",
   "nbconvert_exporter": "python",
   "pygments_lexer": "ipython3",
   "version": "3.9.15 (main, Nov 24 2022, 14:39:17) [MSC v.1916 64 bit (AMD64)]"
  },
  "orig_nbformat": 4,
  "vscode": {
   "interpreter": {
    "hash": "57383ab1ba5f817bea6c6c7f8564a98778d067ff1e6b021c17d161d3034f4776"
   }
  }
 },
 "nbformat": 4,
 "nbformat_minor": 2
}
